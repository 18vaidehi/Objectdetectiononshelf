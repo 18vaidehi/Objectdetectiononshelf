{
  "nbformat": 4,
  "nbformat_minor": 0,
  "metadata": {
    "colab": {
      "provenance": []
    },
    "kernelspec": {
      "name": "python3",
      "display_name": "Python 3"
    },
    "language_info": {
      "name": "python"
    }
  },
  "cells": [
    {
      "cell_type": "code",
      "execution_count": null,
      "metadata": {
        "id": "NLytf4hJOc1o"
      },
      "outputs": [],
      "source": [
        "!wget -q https://storage.googleapis.com/open_source_datasets/ShelfImages.tar.gz\n",
        "!tar xf ShelfImages.tar.gz"
      ]
    },
    {
      "cell_type": "code",
      "source": [
        "!wget -q https://github.com/gulvarol/grocerydataset/releases/download/1.0/GroceryDataset_part2.tar.gz\n",
        "!tar xf GroceryDataset_part2.tar.gz"
      ],
      "metadata": {
        "id": "nINmY-VFPCrE"
      },
      "execution_count": null,
      "outputs": []
    },
    {
      "cell_type": "code",
      "source": [
        "!ls -lh ShelfImages | head -10\n",
        "!ls -lh ShelfImages/train | head-10\n",
        "!ls -lh ShelfImages/test | head -10\n",
        "\n",
        "#\"C<c>_P<p>_N<n>_S<s>_<i>.JPG\"\n",
        "\t\t\t#where\n",
        "\t\t\t\t#<c> := camera id (1: iPhone5S, 2: iPhone4, 3: Sony Cybershot, 4: Nikon Coolpix)\n",
        "\t\t\t\t#<p> := planogram id\n",
        "\t\t\t\t#<n> := the rank of the top shelf on the image according to the planogram\n",
        "\t\t\t\t#<s> := number of shelves on the image\n",
        "\t\t\t\t#<i> := copy number"
      ],
      "metadata": {
        "id": "qOgl4saVPTiF"
      },
      "execution_count": null,
      "outputs": []
    },
    {
      "cell_type": "code",
      "source": [
        "import numpy as np\n",
        "import pandas as pd\n",
        "import matplotlib.pyplot as plt\n",
        "from imutils import paths\n",
        "from typing import List"
      ],
      "metadata": {
        "id": "-cH8PW82SDt0"
      },
      "execution_count": null,
      "outputs": []
    },
    {
      "cell_type": "code",
      "source": [
        "train_images= list(paths.list_images(\"ShelfImages/train\"))\n",
        "plt.figure(figsize=(10,10))\n",
        "for i,image in enumerate(train_images[:9]):\n",
        "  image=plt.imread(image)\n",
        "  ax=plt.subplot(3,3,i+1)\n",
        "  plt.imshow(image)\n",
        "  plt.axis(\"off\")"
      ],
      "metadata": {
        "id": "aAGRwm34U-ZC"
      },
      "execution_count": null,
      "outputs": []
    },
    {
      "cell_type": "code",
      "source": [
        "cols = [\"image_name\", \"x_i\", \"y_i\", \"w_i\", \"h_i\", \"b_i\"]\n",
        "master_df = pd.read_csv(\"https://raw.githubusercontent.com/gulvarol/grocerydataset/master/annotations.csv\",\n",
        "                        names=cols)\n",
        "#master_df.head()\n",
        "print(master_df)"
      ],
      "metadata": {
        "id": "TOZuOJMFl4FJ"
      },
      "execution_count": null,
      "outputs": []
    },
    {
      "cell_type": "code",
      "source": [
        "def vis_annotations(image_path: str, coordinate_list: List[List[int]],\n",
        "                    color: str=\"blue\"):\n",
        "    image = plt.imread(image_path)\n",
        "    fig = plt.imshow(image)\n",
        "    for i in range(len(coordinate_list)):\n",
        "        bbox = coordinate_list[i]\n",
        "        fig.axes.add_patch(plt.Rectangle(\n",
        "            xy=(bbox[0], bbox[1]), width=bbox[2]-bbox[0], height=bbox[3]-bbox[1],\n",
        "            fill=False, edgecolor=color, linewidth=2))\n",
        "    plt.show()"
      ],
      "metadata": {
        "id": "O_7kzXtOm4Lf"
      },
      "execution_count": null,
      "outputs": []
    },
    {
      "cell_type": "code",
      "source": [
        "for j in range (len(train_images)):\n",
        "    c=train_images[j]\n",
        "    print(c)"
      ],
      "metadata": {
        "id": "AqnaYostS0CN"
      },
      "execution_count": null,
      "outputs": []
    },
    {
      "cell_type": "code",
      "source": [
        "train_images[1]"
      ],
      "metadata": {
        "id": "p8ZmpV_PnadW"
      },
      "execution_count": null,
      "outputs": []
    },
    {
      "cell_type": "code",
      "source": [
        "train_images[5]"
      ],
      "metadata": {
        "id": "r0PFidNHoShP"
      },
      "execution_count": null,
      "outputs": []
    },
    {
      "cell_type": "code",
      "source": [
        "train_images[7]"
      ],
      "metadata": {
        "id": "jm7FwyM8oXS1"
      },
      "execution_count": null,
      "outputs": []
    },
    {
      "cell_type": "code",
      "source": [
        "train_images[9]"
      ],
      "metadata": {
        "id": "Xf9SxI9HQpre"
      },
      "execution_count": null,
      "outputs": []
    },
    {
      "cell_type": "code",
      "source": [
        "coordinate_columns = master_df.columns[1:-1]\n",
        "coordinate_list = master_df[master_df[\"image_name\"]==\"C1_P01_N1_S2_1.JPG\"][coordinate_columns]\n",
        "coordinate_list = coordinate_list.values.tolist()\n",
        "vis_annotations(\"ShelfImages/train/C1_P01_N1_S2_1.JPG\", coordinate_list)"
      ],
      "metadata": {
        "id": "bIChHEbEV8e8"
      },
      "execution_count": null,
      "outputs": []
    },
    {
      "cell_type": "code",
      "source": [
        "coordinate_columns = master_df.columns[1:-1]\n",
        "coordinate_list = master_df[master_df[\"image_name\"]==\"C1_P09_N2_S6_1.JPG\"][coordinate_columns]\n",
        "coordinate_list = coordinate_list.values.tolist()\n",
        "\n",
        "vis_annotations(\"ShelfImages/train/C1_P09_N2_S6_1.JPG\", coordinate_list)"
      ],
      "metadata": {
        "id": "SMwlq--dWE5h"
      },
      "execution_count": null,
      "outputs": []
    },
    {
      "cell_type": "code",
      "source": [
        "train_images = list(paths.list_images(\"ShelfImages/train\"))\n",
        "test_images = list(paths.list_images(\"ShelfImages/test\"))\n",
        "train_image_names = [image_path.split(\"/\")[-1] for image_path in train_images]\n",
        "test_image_names = [image_path.split(\"/\")[-1] for image_path in test_images]\n",
        "for i in range(len(train_image_names)):\n",
        "      print(train_image_names[i],\":\")\n"
      ],
      "metadata": {
        "id": "gn8kpar3qlqt"
      },
      "execution_count": null,
      "outputs": []
    },
    {
      "cell_type": "code",
      "source": [
        "# print(master_df)\n",
        "import os\n",
        "folder_path = \"ShelfImages/train\"\n",
        "\n",
        "for filename in os.listdir(folder_path):\n",
        "    f=os.path.join(folder_path, filename)\n",
        "    if os.path.isfile(f):\n",
        "         print(f)\n",
        "         coordinate_columns = master_df.columns[1:-1]\n",
        "#for image_name in filename:\n",
        "#     coordinate_columns = master_df.columns[1:-1]\n",
        "#    #image_name=os.path.basename(image_name)\n",
        "#     print(image_name)\n",
        "         coordinate_list = master_df[master_df[\"image_name\"] == filename][coordinate_columns]\n",
        "         coordinate_list = coordinate_list.values.tolist()\n",
        "         print(coordinate_list)\n",
        "         print(type(filename))\n",
        "\n",
        "         vis_annotations(f,coordinate_list)\n",
        "\n",
        "\n"
      ],
      "metadata": {
        "id": "aPPjR3a3eJ_9"
      },
      "execution_count": null,
      "outputs": []
    },
    {
      "cell_type": "code",
      "source": [],
      "metadata": {
        "id": "V8jCQj9lgU2C"
      },
      "execution_count": null,
      "outputs": []
    }
  ]
}